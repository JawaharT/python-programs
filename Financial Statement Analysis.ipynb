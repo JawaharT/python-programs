{
 "cells": [
  {
   "cell_type": "code",
   "execution_count": 14,
   "metadata": {},
   "outputs": [],
   "source": [
    "revenue_list = [14574.49, 7606.46, 8611.41, 9175.41, 8058.65, 8105.44, 11496.28, 9766.09, 10305.32, 14379.96, 10713.97, 15433.50]\n",
    "expenses_list = [12051.82, 5695.07, 12319.20, 12089.72, 8658.57, 840.20, 3285.73, 5821.12, 6976.93, 16618.61, 10054.37, 3803.96]"
   ]
  },
  {
   "cell_type": "code",
   "execution_count": 53,
   "metadata": {},
   "outputs": [
    {
     "name": "stdout",
     "output_type": "stream",
     "text": [
      "Profit: 2522.67\n",
      "Profit after tax: 1765.8690000000001\n",
      "Profit margin: 0.11441792205267763\n",
      "\n",
      "Profit: 1911.3900000000003\n",
      "Profit after tax: 1337.9730000000004\n",
      "Profit margin: 0.08669277869569446\n",
      "\n",
      "Profit: -3707.790000000001\n",
      "Profit after tax: -2595.4530000000004\n",
      "Profit margin: -0.16817008455632232\n",
      "\n",
      "Profit: -2914.3099999999995\n",
      "Profit after tax: -2040.0169999999998\n",
      "Profit margin: -0.13218109955616028\n",
      "\n",
      "Profit: -599.9200000000001\n",
      "Profit after tax: -419.9440000000001\n",
      "Profit margin: -0.02720990054103088\n",
      "\n",
      "Profit: 7265.24\n",
      "Profit after tax: 5085.668\n",
      "Profit margin: 0.3295213658599799\n",
      "\n",
      "Profit: 8210.550000000001\n",
      "Profit after tax: 5747.385\n",
      "Profit margin: 0.3723967343765186\n",
      "\n",
      "Profit: 3944.9700000000003\n",
      "Profit after tax: 2761.4790000000003\n",
      "Profit margin: 0.17892759257459426\n",
      "\n",
      "Profit: 3328.3899999999994\n",
      "Profit after tax: 2329.8729999999996\n",
      "Profit margin: 0.15096206304467552\n",
      "\n",
      "Profit: -2238.6500000000015\n",
      "Profit after tax: -1567.0550000000012\n",
      "Profit margin: -0.10153594453623618\n",
      "\n",
      "Profit: 659.5999999999985\n",
      "Profit after tax: 461.719999999999\n",
      "Profit margin: 0.029916739560047884\n",
      "\n",
      "Profit: 11629.54\n",
      "Profit after tax: 8140.678000000001\n",
      "Profit margin: 0.5274680403019406\n",
      "\n",
      "Good months: 4\n",
      "Bad months: 8\n",
      "Best month: 8140.678000000001\n",
      "Worst month: -2595.4530000000004\n"
     ]
    }
   ],
   "source": [
    "import numpy\n",
    "revenue_array = numpy.array(revenue_list)\n",
    "expenses_array = numpy.array(expenses_list)\n",
    "\n",
    "profit_after_tax_list = []\n",
    "\n",
    "mean_profit_of_year = sum(profit_list)/len(profit_list)\n",
    "\n",
    "good_months_count = 0\n",
    "\n",
    "for revenue_month in range(0,len(revenue_array)):  \n",
    "    current_revenue_of_month = revenue_array[revenue_month]\n",
    "    current_expense_of_month = expenses_array[revenue_month]\n",
    "    \n",
    "    profit = current_revenue_of_month-current_expense_of_month\n",
    "    print('Profit:',profit)\n",
    "    \n",
    "    profit_after_tax = profit-(profit*0.3)\n",
    "    profit_after_tax_list.append(profit_after_tax)\n",
    "    print('Profit after tax:',profit_after_tax)\n",
    "    \n",
    "    profit_margin = profit_after_tax/revenue_array[month]\n",
    "    print('Profit margin:',profit_margin)\n",
    "    print('')\n",
    "    \n",
    "    if profit_after_tax > mean_profit_of_year:\n",
    "        good_months_count += 1\n",
    "    \n",
    "\n",
    "print('Good months:', good_months_count)\n",
    "print('Bad months:', len(profit_after_tax_list)-good_months_count)\n",
    "print('Best month:',max(profit_after_tax_list))\n",
    "print('Worst month:',min(profit_after_tax_list))"
   ]
  }
 ],
 "metadata": {
  "kernelspec": {
   "display_name": "Python 3",
   "language": "python",
   "name": "python3"
  },
  "language_info": {
   "codemirror_mode": {
    "name": "ipython",
    "version": 3
   },
   "file_extension": ".py",
   "mimetype": "text/x-python",
   "name": "python",
   "nbconvert_exporter": "python",
   "pygments_lexer": "ipython3",
   "version": "3.7.4"
  }
 },
 "nbformat": 4,
 "nbformat_minor": 2
}
