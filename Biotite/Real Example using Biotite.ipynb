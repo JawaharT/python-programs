{
 "cells": [
  {
   "cell_type": "code",
   "execution_count": 138,
   "metadata": {},
   "outputs": [
    {
     "name": "stdout",
     "output_type": "stream",
     "text": [
      "ATCGAGGAC\n",
      "['A', 'C', 'G', 'T']\n",
      "['A', 'C', 'G', 'T']\n",
      "{'A': 3, 'C': 2, 'G': 3, 'T': 1}\n"
     ]
    },
    {
     "data": {
      "image/png": "[encoded data removed]",
      "text/plain": [
       "<Figure size 432x288 with 1 Axes>"
      ]
     },
     "metadata": {
      "needs_background": "light"
     },
     "output_type": "display_data"
    },
    {
     "name": "stdout",
     "output_type": "stream",
     "text": [
      "TAGCTCCTG\n",
      "GTCCTCGAT\n",
      "IED\n",
      "Defined Protein Sequence MET\n",
      "Convert 1 letter to 3 letter version in previous protein example\n",
      "MET\n",
      "GLU\n",
      "THR\n",
      "    A   C   D   E   F   G   H   I   K   L   M   N   P   Q   R   S   T   V   W   Y   B   Z   X   *\n",
      "A   4   0  -2  -1  -2   0  -2  -1  -1  -1  -1  -2  -1  -1  -1   1   0   0  -3  -2  -2  -1   0  -4\n",
      "C   0   9  -3  -4  -2  -3  -3  -1  -3  -1  -1  -3  -3  -3  -3  -1  -1  -1  -2  -2  -3  -3  -2  -4\n",
      "D  -2  -3   6   2  -3  -1  -1  -3  -1  -4  -3   1  -1   0  -2   0  -1  -3  -4  -3   4   1  -1  -4\n",
      "E  -1  -4   2   5  -3  -2   0  -3   1  -3  -2   0  -1   2   0   0  -1  -2  -3  -2   1   4  -1  -4\n",
      "F  -2  -2  -3  -3   6  -3  -1   0  -3   0   0  -3  -4  -3  -3  -2  -2  -1   1   3  -3  -3  -1  -4\n",
      "G   0  -3  -1  -2  -3   6  -2  -4  -2  -4  -3   0  -2  -2  -2   0  -2  -3  -2  -3  -1  -2  -1  -4\n",
      "H  -2  -3  -1   0  -1  -2   8  -3  -1  -3  -2   1  -2   0   0  -1  -2  -3  -2   2   0   0  -1  -4\n",
      "I  -1  -1  -3  -3   0  -4  -3   4  -3   2   1  -3  -3  -3  -3  -2  -1   3  -3  -1  -3  -3  -1  -4\n",
      "K  -1  -3  -1   1  -3  -2  -1  -3   5  -2  -1   0  -1   1   2   0  -1  -2  -3  -2   0   1  -1  -4\n",
      "L  -1  -1  -4  -3   0  -4  -3   2  -2   4   2  -3  -3  -2  -2  -2  -1   1  -2  -1  -4  -3  -1  -4\n",
      "M  -1  -1  -3  -2   0  -3  -2   1  -1   2   5  -2  -2   0  -1  -1  -1   1  -1  -1  -3  -1  -1  -4\n",
      "N  -2  -3   1   0  -3   0   1  -3   0  -3  -2   6  -2   0   0   1   0  -3  -4  -2   3   0  -1  -4\n",
      "P  -1  -3  -1  -1  -4  -2  -2  -3  -1  -3  -2  -2   7  -1  -2  -1  -1  -2  -4  -3  -2  -1  -2  -4\n",
      "Q  -1  -3   0   2  -3  -2   0  -3   1  -2   0   0  -1   5   1   0  -1  -2  -2  -1   0   3  -1  -4\n",
      "R  -1  -3  -2   0  -3  -2   0  -3   2  -2  -1   0  -2   1   5  -1  -1  -3  -3  -2  -1   0  -1  -4\n",
      "S   1  -1   0   0  -2   0  -1  -2   0  -2  -1   1  -1   0  -1   4   1  -2  -3  -2   0   0   0  -4\n",
      "T   0  -1  -1  -1  -2  -2  -2  -1  -1  -1  -1   0  -1  -1  -1   1   5   0  -2  -2  -1  -1   0  -4\n",
      "V   0  -1  -3  -2  -1  -3  -3   3  -2   1   1  -3  -2  -2  -3  -2   0   4  -3  -1  -3  -2  -1  -4\n",
      "W  -3  -2  -4  -3   1  -2  -2  -3  -3  -2  -1  -4  -4  -2  -3  -3  -2  -3  11   2  -4  -3  -2  -4\n",
      "Y  -2  -2  -3  -2   3  -3   2  -1  -2  -1  -1  -2  -3  -1  -2  -2  -2  -1   2   7  -3  -2  -1  -4\n",
      "B  -2  -3   4   1  -3  -1   0  -3   0  -4  -3   3  -2   0  -1   0  -1  -3  -4  -3   4   1  -1  -4\n",
      "Z  -1  -3   1   4  -3  -2   0  -3   1  -3  -1   0  -1   3   0   0  -1  -2  -3  -2   1   4  -1  -4\n",
      "X   0  -2  -1  -1  -1  -1  -1  -1  -1  -1  -1  -1  -2  -1  -1   0   0  -1  -2  -1  -1  -1  -1  -4\n",
      "*  -4  -4  -4  -4  -4  -4  -4  -4  -4  -4  -4  -4  -4  -4  -4  -4  -4  -4  -4  -4  -4  -4  -4   1\n",
      "    A   C   G   T\n",
      "A   5  -4  -4  -4\n",
      "C  -4   5  -4  -4\n",
      "G  -4  -4   5  -4\n",
      "T  -4  -4  -4   5 \n",
      "\n",
      "Local alignments\n",
      "ITITET\n",
      "ITITET\n"
     ]
    },
    {
     "data": {
      "image/png": "[encoded data removed]",
      "text/plain": [
       "<Figure size 720x72 with 2 Axes>"
      ]
     },
     "metadata": {
      "needs_background": "light"
     },
     "output_type": "display_data"
    },
    {
     "name": "stdout",
     "output_type": "stream",
     "text": [
      "\n",
      "Global alignments\n",
      "MITITET\n",
      "-ITITET\n"
     ]
    },
    {
     "data": {
      "image/png": "[encoded data removed]",
      "text/plain": [
       "<Figure size 720x72 with 2 Axes>"
      ]
     },
     "metadata": {
      "needs_background": "light"
     },
     "output_type": "display_data"
    },
    {
     "name": "stdout",
     "output_type": "stream",
     "text": [
      "Global Score: 18\n",
      "Global Sequence Identity: 1.0\n"
     ]
    }
   ],
   "source": [
    "#Load Biotite and other packages\n",
    "import biotite\n",
    "import biotite.sequence as seq\n",
    "import biotite.sequence.align as align\n",
    "import biotite.sequence.graphics as graphics\n",
    "import biotite.database.entrez as entrez\n",
    "import biotite.sequence.io.fasta as fasta\n",
    "import matplotlib.pyplot as plt\n",
    "\n",
    "#Methods\n",
    "#print(dir(biotite))\n",
    "#print(dir(seq))\n",
    "#print(dir(align))\n",
    "#print(dir(entrez))\n",
    "\n",
    "#Create DNA sequence\n",
    "dna = seq.NucleotideSequence(\"ATCGAGGAC\")\n",
    "print(dna)\n",
    "#print(dir(dna))\n",
    "\n",
    "#Check for Alphabet in Nucleotide\n",
    "print(dna.get_alphabet())\n",
    "print(dna.alphabet)\n",
    "\n",
    "#Get count of frequency\n",
    "freq = dna.get_symbol_frequency()\n",
    "print(freq)\n",
    "\n",
    "#Plot of frequency\n",
    "plt.bar(freq.keys(), freq.values())\n",
    "plt.show()\n",
    "\n",
    "#Complement\n",
    "print(dna.complement())\n",
    "\n",
    "#Reverse complement\n",
    "print(dna.complement()[::-1])\n",
    "\n",
    "#DNA to protein, no transcription method in Biotite\n",
    "protein = dna.translate(complete=True)\n",
    "print(protein)\n",
    "\n",
    "protein_seq = seq.ProteinSequence(\"MET\")\n",
    "print(\"Defined Protein Sequence\",protein_seq)\n",
    "\n",
    "print(\"Convert 1 letter to 3 letter version in previous protein example\")\n",
    "for symbol in protein_seq:\n",
    "    print(seq.ProteinSequence.convert_letter_1to3(symbol))\n",
    "    \n",
    "\n",
    "#Sequence Alignment - finding regions that are similar, local or global, can use protein or DNA\n",
    "#Global: Needleman-Wunsch algorithm\n",
    "#Local: Smith-Waterman algorithm\n",
    "seq1 = seq.ProteinSequence(\"MITITET\")\n",
    "seq2 = seq.ProteinSequence(\"ITITET\")\n",
    "\n",
    "#Need Substitution Matrix for alignmment in Biotite\n",
    "\n",
    "#Protein Matrix, 4 points means a match is present\n",
    "p_matrix = align.SubstitutionMatrix.std_protein_matrix()\n",
    "print(p_matrix)\n",
    "\n",
    "#Nucleotide Matrix, 5 points means a match is present\n",
    "n_matrix = align.SubstitutionMatrix.std_nucleotide_matrix()\n",
    "print(n_matrix,\"\\n\")\n",
    "\n",
    "#More fancyful alignments graph\n",
    "def fancy_alignment(alignment_type):\n",
    "    fig,ax = plt.subplots(figsize=(10,1))\n",
    "    graphics.plot_alignment_similarity_based(ax,alignment_type[0],\n",
    "                                         matrix=p_matrix,symbols_per_line=len(alignment_type[0]))\n",
    "    fig.tight_layout()\n",
    "    plt.show()\n",
    "\n",
    "def all_alignments(alignments):\n",
    "    for a in alignments:\n",
    "        print(a)\n",
    "\n",
    "print(\"Local alignments\")\n",
    "local_alignments = align.align_optimal(seq1,seq2,p_matrix,local=True)\n",
    "all_alignments(local_alignments)\n",
    "fancy_alignment(local_alignments)\n",
    "\n",
    "print(\"\\nGlobal alignments\")\n",
    "global_alignments = align.align_optimal(seq1,seq2,p_matrix,local=False)\n",
    "all_alignments(global_alignments)\n",
    "fancy_alignment(global_alignments)\n",
    "\n",
    "#Get alignment score and seq identity\n",
    "print(\"Global Score:\",global_alignments[0].score)\n",
    "print(\"Global Sequence Identity:\",align.get_sequence_identity(global_alignments[0])) #seq1 and seq2 are identical but not the same"
   ]
  },
  {
   "cell_type": "code",
   "execution_count": 154,
   "metadata": {},
   "outputs": [
    {
     "name": "stdout",
     "output_type": "stream",
     "text": [
      "29903 30119\n",
      "{'A': 8954, 'C': 5492, 'G': 5863, 'T': 9594} {'A': 7900, 'C': 6116, 'G': 6304, 'T': 9799}\n",
      "37.97277865097147 41.23642883229855\n"
     ]
    },
    {
     "data": {
      "image/png": "[encoded data removed]",
      "text/plain": [
       "<Figure size 432x288 with 2 Axes>"
      ]
     },
     "metadata": {
      "needs_background": "light"
     },
     "output_type": "display_data"
    },
    {
     "data": {
      "image/png": "[encoded data removed]",
      "text/plain": [
       "<Figure size 576x180 with 2 Axes>"
      ]
     },
     "metadata": {
      "needs_background": "light"
     },
     "output_type": "display_data"
    },
    {
     "data": {
      "image/png": "[encoded data removed]",
      "text/plain": [
       "<Figure size 576x180 with 2 Axes>"
      ]
     },
     "metadata": {
      "needs_background": "light"
     },
     "output_type": "display_data"
    },
    {
     "name": "stdout",
     "output_type": "stream",
     "text": [
      "59.80392156862745\n",
      "60.18518518518518\n"
     ]
    }
   ],
   "source": [
    "#Get database name\n",
    "#print(entrez.get_database_name(\"Nucleotide\"))\n",
    "\n",
    "#Real example, gets data from NCBI using the Reference Sequence\n",
    "sarscov2_file_path = entrez.fetch(\"NC_045512\",\"mypdb_dir\",suffix=\"fa\",db_name=\"nuccore\",ret_type=\"fasta\")\n",
    "sarscov2_file = fasta.FastaFile()\n",
    "sarscov2_file.read(sarscov2_file_path)\n",
    "\n",
    "mers_file_path = entrez.fetch(\"NC_019843.3\",\"mypdb_dir\",suffix=\"fa\",db_name=\"nuccore\",ret_type=\"fasta\")\n",
    "mers_file = fasta.FastaFile()\n",
    "mers_file.read(mers_file_path)\n",
    "\n",
    "def get_seq(file):\n",
    "    #return [seq.NucleotideSequence(sequence) for header,sequence in file.items()]\n",
    "    for header,sequence in file.items():\n",
    "        return seq.NucleotideSequence(sequence)\n",
    "\n",
    "sarscov2_seq = get_seq(sarscov2_file)\n",
    "mers_seq = get_seq(mers_file)\n",
    "\n",
    "#Check for length, frequency, alignment and GC count\n",
    "\n",
    "#Length of sequence\n",
    "print(len(sarscov2_seq),len(mers_seq))\n",
    "\n",
    "#Frequency of Nucleotides\n",
    "freq_sarscov2 = sarscov2_seq.get_symbol_frequency()\n",
    "freq_mers = mers_seq.get_symbol_frequency()\n",
    "\n",
    "print(freq_sarscov2, freq_mers)\n",
    "\n",
    "#Get GC Content of DNA to understand stability, melting point\n",
    "def get_GC_content(sequence):\n",
    "    return float(str(sequence).count(\"G\") + str(sequence).count(\"C\"))/len(sequence) * 100\n",
    "\n",
    "print(get_GC_content(sarscov2_seq), get_GC_content(mers_seq))\n",
    "\n",
    "#Plot\n",
    "fig, ax = plt.subplots(1, 2, sharey=True)\n",
    "fig.suptitle(\"DNA Nucleotide Count\")\n",
    "ax[0].set_title(\"SARS-coV2\")\n",
    "ax[0].bar(freq_sarscov2.keys(), freq_sarscov2.values())\n",
    "\n",
    "ax[1].set_title(\"MERS\")\n",
    "ax[1].bar(freq_mers.keys(), freq_mers.values())\n",
    "plt.show()\n",
    "\n",
    "#Alignment between SARS coV-2 and MERS, Use BLAST online to compare entire genome\n",
    "mini_sarscov2 = sarscov2_seq[:100]\n",
    "mini_mers = mers_seq[:100]\n",
    "\n",
    "#Use n_matrix from before\n",
    "custom_local_alignment = align.align_optimal(mini_sarscov2,mini_mers,n_matrix,local=True,gap_penalty=(-10,-1),terminal_penalty=False)\n",
    "custom_global_alignment = align.align_optimal(mini_sarscov2,mini_mers,n_matrix,local=False)\n",
    "\n",
    "#To get all alignments\n",
    "#all_alignments(custom_local_alignment)\n",
    "#all_alignments(custom_global_alignment)\n",
    "\n",
    "def updated_fancy_alignment(alignment_type):\n",
    "    fig = plt.figure(figsize=(8.0,2.5))\n",
    "    ax = fig.add_subplot(111)\n",
    "    graphics.plot_alignment_similarity_based(ax,alignment_type[0],\n",
    "                                             matrix=n_matrix,labels=[\"SARS coV-2\",\"MERS\"],\n",
    "                                             show_numbers=True, show_line_position=True)\n",
    "    fig.tight_layout()\n",
    "    plt.show()\n",
    "\n",
    "updated_fancy_alignment(custom_local_alignment)\n",
    "updated_fancy_alignment(custom_global_alignment)\n",
    "\n",
    "#Quite similar and both are under the same Coronavirus family\n",
    "\n",
    "\n",
    "#How identical are both, using the first alignment\n",
    "print(align.get_sequence_identity(custom_local_alignment[0])*100)\n",
    "print(align.get_sequence_identity(custom_global_alignment[0])*100)"
   ]
  },
  {
   "cell_type": "code",
   "execution_count": null,
   "metadata": {},
   "outputs": [],
   "source": []
  }
 ],
 "metadata": {
  "kernelspec": {
   "display_name": "Python 3",
   "language": "python",
   "name": "python3"
  },
  "language_info": {
   "codemirror_mode": {
    "name": "ipython",
    "version": 3
   },
   "file_extension": ".py",
   "mimetype": "text/x-python",
   "name": "python",
   "nbconvert_exporter": "python",
   "pygments_lexer": "ipython3",
   "version": "3.7.4"
  }
 },
 "nbformat": 4,
 "nbformat_minor": 4
}
