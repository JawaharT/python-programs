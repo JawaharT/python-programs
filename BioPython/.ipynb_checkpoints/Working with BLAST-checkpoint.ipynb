{
 "cells": [
  {
   "cell_type": "code",
   "execution_count": 2,
   "metadata": {},
   "outputs": [
    {
     "name": "stdout",
     "output_type": "stream",
     "text": [
      "29803\n"
     ]
    }
   ],
   "source": [
    "#Can use BLAST over the internet or locally (BLAST CLI or Biopython respectively)\n",
    "from Bio.Blast import NCBIWWW\n",
    "from Bio import SeqIO\n",
    "\n",
    "#Reading sequence from a FASTA file\n",
    "covid_record = SeqIO.read(\"covid_sequence_MT385497.fasta\",\"fasta\") \n",
    "covid_dna = covid_record.seq\n",
    "print(len(covid_dna))"
   ]
  },
  {
   "cell_type": "code",
   "execution_count": 3,
   "metadata": {},
   "outputs": [
    {
     "data": {
      "text/plain": [
       "'print(\"Start\")\\nwith NCBIWWW.qblast(\"blastn\",\"nt\",covid_dna) as result_handle:\\n    print(\"Start 2\")\\n    with open(\"result_blast_covid.xml\",\"w\") as xml_file:\\n        print(\"Start 3\")\\n        xml_file.write(result_handle)'"
      ]
     },
     "execution_count": 3,
     "metadata": {},
     "output_type": "execute_result"
    }
   ],
   "source": [
    "#Best way of storing results as it takes time\n",
    "'''print(\"Start\")\n",
    "with NCBIWWW.qblast(\"blastn\",\"nt\",covid_dna) as result_handle:\n",
    "    print(\"Start 2\")\n",
    "    with open(\"result_blast_covid.xml\",\"w\") as xml_file:\n",
    "        print(\"Start 3\")\n",
    "        xml_file.write(result_handle)'''"
   ]
  },
  {
   "cell_type": "markdown",
   "metadata": {},
   "source": [
    "#### Doing previous cell task from scratch as it is taking a lot of time\n",
    "#### Outline\n",
    "\n",
    "+ Reading \n",
    "+ Sequence analysis\n",
    "+ Frequency Nucleotide, AA, GC, AT count \n",
    "+ Protein Synthesis\n",
    "\n"
   ]
  },
  {
   "cell_type": "code",
   "execution_count": 4,
   "metadata": {},
   "outputs": [
    {
     "name": "stderr",
     "output_type": "stream",
     "text": [
      "/Library/Frameworks/Python.framework/Versions/3.8/lib/python3.8/site-packages/Bio/Seq.py:2855: BiopythonWarning: Partial codon, len(sequence) not a multiple of three. Explicitly trim the sequence or add trailing N before translation. This may become an error in future.\n",
      "  warnings.warn(\n"
     ]
    }
   ],
   "source": [
    "from Bio import SeqIO\n",
    "#reading FASTA file, with strain from California\n",
    "covid_19_record = SeqIO.read(\"covid_sequence_MT385497.fasta\",\"fasta\")\n",
    "#only DNA sequence\n",
    "covid_dna = covid_19_record.seq\n",
    "#Transcript into mRNA\n",
    "mrna_covid = covid_dna.transcribe()\n",
    "#Translate into AA\n",
    "covid_protein = mrna_covid.translate()"
   ]
  },
  {
   "cell_type": "code",
   "execution_count": 21,
   "metadata": {},
   "outputs": [
    {
     "name": "stdout",
     "output_type": "stream",
     "text": [
      "8074343.12620062\n",
      "GC Content: 33.399322215884304, AT Content: 54.26634902526592\n",
      "[('L', 1435), ('X', 1268), ('*', 632), ('S', 619), ('V', 583)]\n"
     ]
    },
    {
     "data": {
      "text/html": [
       "<div>\n",
       "<style scoped>\n",
       "    .dataframe tbody tr th:only-of-type {\n",
       "        vertical-align: middle;\n",
       "    }\n",
       "\n",
       "    .dataframe tbody tr th {\n",
       "        vertical-align: top;\n",
       "    }\n",
       "\n",
       "    .dataframe thead th {\n",
       "        text-align: right;\n",
       "    }\n",
       "</style>\n",
       "<table border=\"1\" class=\"dataframe\">\n",
       "  <thead>\n",
       "    <tr style=\"text-align: right;\">\n",
       "      <th></th>\n",
       "      <th>Amino Acids</th>\n",
       "      <th>Count</th>\n",
       "    </tr>\n",
       "  </thead>\n",
       "  <tbody>\n",
       "    <tr>\n",
       "      <th>594</th>\n",
       "      <td>SSGLNELNIILVFLFGTLILAMADSNGTITVEELKKLLEQWNLVIG...</td>\n",
       "      <td>243</td>\n",
       "    </tr>\n",
       "    <tr>\n",
       "      <th>161</th>\n",
       "      <td>LPLILYYSLXXXXXXXXXXXXXXXXXXXXXXXXXXXXXXXXXXXXX...</td>\n",
       "      <td>130</td>\n",
       "    </tr>\n",
       "    <tr>\n",
       "      <th>612</th>\n",
       "      <td>TNMKFLVFLGIITTVAAFHQECSLQSCTQHQPYVVDDPCPIHFYSK...</td>\n",
       "      <td>123</td>\n",
       "    </tr>\n",
       "    <tr>\n",
       "      <th>44</th>\n",
       "      <td>MSGVWLHTTYLMSLVSLNWLXXXXXXXXXXXXXKXKXXXXXXXXXX...</td>\n",
       "      <td>114</td>\n",
       "    </tr>\n",
       "    <tr>\n",
       "      <th>613</th>\n",
       "      <td>TNKLKCLIMDPKISEMHPALRLVDPQIQLAVTRMENAVGRDQNNVG...</td>\n",
       "      <td>105</td>\n",
       "    </tr>\n",
       "    <tr>\n",
       "      <th>527</th>\n",
       "      <td>IRRPSPYLLLITLLMLLLKSVNFNFVMIHFWVFITTKTTKVGWKVS...</td>\n",
       "      <td>101</td>\n",
       "    </tr>\n",
       "    <tr>\n",
       "      <th>550</th>\n",
       "      <td>LLNKTKTPKKFLHKSNKFTKHHQLKILVVLIFHKYXXXXXXXXXXX...</td>\n",
       "      <td>98</td>\n",
       "    </tr>\n",
       "    <tr>\n",
       "      <th>524</th>\n",
       "      <td>SLVSVLILQPELNYPLHTLILSHVVFITLTKFSXXXXXXXLRTCSY...</td>\n",
       "      <td>89</td>\n",
       "    </tr>\n",
       "    <tr>\n",
       "      <th>96</th>\n",
       "      <td>MVMWWLLIINTTHPLLRKELNCYINLLFGMLTMQLIKPRINQIPGV...</td>\n",
       "      <td>87</td>\n",
       "    </tr>\n",
       "    <tr>\n",
       "      <th>616</th>\n",
       "      <td>IHQKITLAPAILLTMLQSCYNFLKEQHCQKASTQKGAEAAVKPLLV...</td>\n",
       "      <td>87</td>\n",
       "    </tr>\n",
       "  </tbody>\n",
       "</table>\n",
       "</div>"
      ],
      "text/plain": [
       "                                           Amino Acids  Count\n",
       "594  SSGLNELNIILVFLFGTLILAMADSNGTITVEELKKLLEQWNLVIG...    243\n",
       "161  LPLILYYSLXXXXXXXXXXXXXXXXXXXXXXXXXXXXXXXXXXXXX...    130\n",
       "612  TNMKFLVFLGIITTVAAFHQECSLQSCTQHQPYVVDDPCPIHFYSK...    123\n",
       "44   MSGVWLHTTYLMSLVSLNWLXXXXXXXXXXXXXKXKXXXXXXXXXX...    114\n",
       "613  TNKLKCLIMDPKISEMHPALRLVDPQIQLAVTRMENAVGRDQNNVG...    105\n",
       "527  IRRPSPYLLLITLLMLLLKSVNFNFVMIHFWVFITTKTTKVGWKVS...    101\n",
       "550  LLNKTKTPKKFLHKSNKFTKHHQLKILVVLIFHKYXXXXXXXXXXX...     98\n",
       "524  SLVSVLILQPELNYPLHTLILSHVVFITLTKFSXXXXXXXLRTCSY...     89\n",
       "96   MVMWWLLIINTTHPLLRKELNCYINLLFGMLTMQLIKPRINQIPGV...     87\n",
       "616  IHQKITLAPAILLTMLQSCYNFLKEQHCQKASTQKGAEAAVKPLLV...     87"
      ]
     },
     "execution_count": 21,
     "metadata": {},
     "output_type": "execute_result"
    }
   ],
   "source": [
    "#Sequence Analysis\n",
    "from collections import Counter\n",
    "import matplotlib.pyplot as plt\n",
    "covid_nucleotide_freq = Counter(covid_dna)\n",
    "#plt.bar(covid_nucleotide_freq.keys(), covid_nucleotide_freq.values())\n",
    "\n",
    "#Checking molecular weight\n",
    "from Bio.SeqUtils import molecular_weight\n",
    "#covid_dna.strip(\"N\") -> Did not work\n",
    "print(molecular_weight(str(covid_dna).replace(\"N\", \"\")))\n",
    "\n",
    "#GC Content, AT Content\n",
    "from Bio.SeqUtils import GC,GC123,GC_skew,xGC_skew\n",
    "def AT_content(seq):\n",
    "    return float(seq.count(\"A\")+seq.count(\"T\"))/len(seq) *100\n",
    "print(\"GC Content: {0}, AT Content: {1}\".format(GC(covid_dna), AT_content(covid_dna)))\n",
    "\n",
    "#Lagging/leading strand\n",
    "#print(GC_skew(covid_dna)) #Plot for GC_skew use xGC_skew\n",
    "\n",
    "#Melting point\n",
    "from Bio.SeqUtils import MeltingTemp as mt\n",
    "mt.Tm_GC(covid_dna, strict=False)\n",
    "\n",
    "#Check number of amino acids\n",
    "aa_count = Counter(covid_protein)\n",
    "#plt.bar(aa_count.keys(), aa_count.values())\n",
    "#5 most common amino acids in sequence\n",
    "print(aa_count.most_common(5))\n",
    "\n",
    "#Longest sequence before stop codon (*)\n",
    "covid_protein_clean = covid_protein.split(\"*\")\n",
    "covid_protein_clean = [str(i) for i in covid_protein_clean]\n",
    "\n",
    "import pandas as pd\n",
    "df = pd.DataFrame({\"Amino Acids\":covid_protein_clean})\n",
    "df[\"Count\"] = df[\"Amino Acids\"].str.len()\n",
    "df.nlargest(10,\"Count\")"
   ]
  },
  {
   "cell_type": "code",
   "execution_count": null,
   "metadata": {},
   "outputs": [],
   "source": []
  }
 ],
 "metadata": {
  "kernelspec": {
   "display_name": "Python 3",
   "language": "python",
   "name": "python3"
  },
  "language_info": {
   "codemirror_mode": {
    "name": "ipython",
    "version": 3
   },
   "file_extension": ".py",
   "mimetype": "text/x-python",
   "name": "python",
   "nbconvert_exporter": "python",
   "pygments_lexer": "ipython3",
   "version": "3.8.2"
  }
 },
 "nbformat": 4,
 "nbformat_minor": 4
}
