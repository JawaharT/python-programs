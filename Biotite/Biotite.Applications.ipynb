{
 "cells": [
  {
   "cell_type": "code",
   "execution_count": 17,
   "metadata": {},
   "outputs": [],
   "source": [
    "#States:\n",
    "#Running State - initialise app\n",
    "#Created State - start(), task begins\n",
    "#Finished state\n",
    "#Joined state - join() app results are accessible\n",
    "#Summary Below"
   ]
  },
  {
   "cell_type": "markdown",
   "metadata": {},
   "source": [
    "![caption](Biotite.Application.png)"
   ]
  },
  {
   "cell_type": "code",
   "execution_count": 24,
   "metadata": {},
   "outputs": [],
   "source": [
    "#Simple application using Biotite using BLAST database to get alignment\n",
    "import biotite.application.blast as blast\n",
    "import biotite.sequence as seq\n",
    "#print(dir(biotite.application))\n",
    "\n",
    "#Initialise protein\n",
    "protein = seq.ProteinSequence(\"NLYIQWLKDGGPSSGRPPPS\")\n",
    "\n",
    "#Create app, do not run too many times as frequent BLAST requests error will appear\n",
    "#blastp database for protein database\n",
    "app = blast.BlastWebApp(\"blastp\",protein)\n",
    "\n",
    "#Start task\n",
    "app.start()\n",
    "\n",
    "#Get data and make it accessible\n",
    "app.join()"
   ]
  },
  {
   "cell_type": "code",
   "execution_count": 30,
   "metadata": {},
   "outputs": [
    {
     "name": "stdout",
     "output_type": "stream",
     "text": [
      "NLYIQWLKDGGPSSGRPPPS\n",
      "NLYIQWLKDGGPSSGRPPPS\n",
      "Score 101\n",
      "E-Value 6.03643e-05\n",
      "ID 1L2Y_A\n",
      "Name Chain A, TC5b [synthetic construct]\n"
     ]
    }
   ],
   "source": [
    "#Gets local alignments from app results\n",
    "local_alignments = app.get_alignments()\n",
    "#print(local_alignments)\n",
    "\n",
    "#Get best result\n",
    "best_alignments = local_alignments[0]\n",
    "print(best_alignments)\n",
    "\n",
    "#Get score, E-value, ID, Name\n",
    "print(\"Score\",best_alignments.score)\n",
    "print(\"E-Value\",best_alignments.e_value)\n",
    "print(\"ID\",best_alignments.hit_id)\n",
    "print(\"Name\",best_alignments.hit_definition)"
   ]
  },
  {
   "cell_type": "code",
   "execution_count": null,
   "metadata": {},
   "outputs": [],
   "source": []
  }
 ],
 "metadata": {
  "kernelspec": {
   "display_name": "Python 3",
   "language": "python",
   "name": "python3"
  },
  "language_info": {
   "codemirror_mode": {
    "name": "ipython",
    "version": 3
   },
   "file_extension": ".py",
   "mimetype": "text/x-python",
   "name": "python",
   "nbconvert_exporter": "python",
   "pygments_lexer": "ipython3",
   "version": "3.7.4"
  }
 },
 "nbformat": 4,
 "nbformat_minor": 4
}
