{
 "cells": [
  {
   "cell_type": "code",
   "execution_count": 3,
   "metadata": {},
   "outputs": [
    {
     "name": "stdout",
     "output_type": "stream",
     "text": [
      "['Alignment', 'SubstitutionMatrix', '__author__', '__builtins__', '__cached__', '__doc__', '__file__', '__loader__', '__name__', '__package__', '__path__', '__spec__', 'align_multiple', 'align_optimal', 'align_ungapped', 'alignment', 'get_codes', 'get_pairwise_sequence_identity', 'get_sequence_identity', 'get_symbols', 'matrix', 'multiple', 'pairwise', 'score']\n",
      "    A   C   G   T\n",
      "A   5  -4  -4  -4\n",
      "C  -4   5  -4  -4\n",
      "G  -4  -4   5  -4\n",
      "T  -4  -4  -4   5\n",
      "    A   C   D   E   F   G   H   I   K   L   M   N   P   Q   R   S   T   V   W   Y   B   Z   X   *\n",
      "A   4   0  -2  -1  -2   0  -2  -1  -1  -1  -1  -2  -1  -1  -1   1   0   0  -3  -2  -2  -1   0  -4\n",
      "C   0   9  -3  -4  -2  -3  -3  -1  -3  -1  -1  -3  -3  -3  -3  -1  -1  -1  -2  -2  -3  -3  -2  -4\n",
      "D  -2  -3   6   2  -3  -1  -1  -3  -1  -4  -3   1  -1   0  -2   0  -1  -3  -4  -3   4   1  -1  -4\n",
      "E  -1  -4   2   5  -3  -2   0  -3   1  -3  -2   0  -1   2   0   0  -1  -2  -3  -2   1   4  -1  -4\n",
      "F  -2  -2  -3  -3   6  -3  -1   0  -3   0   0  -3  -4  -3  -3  -2  -2  -1   1   3  -3  -3  -1  -4\n",
      "G   0  -3  -1  -2  -3   6  -2  -4  -2  -4  -3   0  -2  -2  -2   0  -2  -3  -2  -3  -1  -2  -1  -4\n",
      "H  -2  -3  -1   0  -1  -2   8  -3  -1  -3  -2   1  -2   0   0  -1  -2  -3  -2   2   0   0  -1  -4\n",
      "I  -1  -1  -3  -3   0  -4  -3   4  -3   2   1  -3  -3  -3  -3  -2  -1   3  -3  -1  -3  -3  -1  -4\n",
      "K  -1  -3  -1   1  -3  -2  -1  -3   5  -2  -1   0  -1   1   2   0  -1  -2  -3  -2   0   1  -1  -4\n",
      "L  -1  -1  -4  -3   0  -4  -3   2  -2   4   2  -3  -3  -2  -2  -2  -1   1  -2  -1  -4  -3  -1  -4\n",
      "M  -1  -1  -3  -2   0  -3  -2   1  -1   2   5  -2  -2   0  -1  -1  -1   1  -1  -1  -3  -1  -1  -4\n",
      "N  -2  -3   1   0  -3   0   1  -3   0  -3  -2   6  -2   0   0   1   0  -3  -4  -2   3   0  -1  -4\n",
      "P  -1  -3  -1  -1  -4  -2  -2  -3  -1  -3  -2  -2   7  -1  -2  -1  -1  -2  -4  -3  -2  -1  -2  -4\n",
      "Q  -1  -3   0   2  -3  -2   0  -3   1  -2   0   0  -1   5   1   0  -1  -2  -2  -1   0   3  -1  -4\n",
      "R  -1  -3  -2   0  -3  -2   0  -3   2  -2  -1   0  -2   1   5  -1  -1  -3  -3  -2  -1   0  -1  -4\n",
      "S   1  -1   0   0  -2   0  -1  -2   0  -2  -1   1  -1   0  -1   4   1  -2  -3  -2   0   0   0  -4\n",
      "T   0  -1  -1  -1  -2  -2  -2  -1  -1  -1  -1   0  -1  -1  -1   1   5   0  -2  -2  -1  -1   0  -4\n",
      "V   0  -1  -3  -2  -1  -3  -3   3  -2   1   1  -3  -2  -2  -3  -2   0   4  -3  -1  -3  -2  -1  -4\n",
      "W  -3  -2  -4  -3   1  -2  -2  -3  -3  -2  -1  -4  -4  -2  -3  -3  -2  -3  11   2  -4  -3  -2  -4\n",
      "Y  -2  -2  -3  -2   3  -3   2  -1  -2  -1  -1  -2  -3  -1  -2  -2  -2  -1   2   7  -3  -2  -1  -4\n",
      "B  -2  -3   4   1  -3  -1   0  -3   0  -4  -3   3  -2   0  -1   0  -1  -3  -4  -3   4   1  -1  -4\n",
      "Z  -1  -3   1   4  -3  -2   0  -3   1  -3  -1   0  -1   3   0   0  -1  -2  -3  -2   1   4  -1  -4\n",
      "X   0  -2  -1  -1  -1  -1  -1  -1  -1  -1  -1  -1  -2  -1  -1   0   0  -1  -2  -1  -1  -1  -1  -4\n",
      "*  -4  -4  -4  -4  -4  -4  -4  -4  -4  -4  -4  -4  -4  -4  -4  -4  -4  -4  -4  -4  -4  -4  -4   1\n",
      "Load substution matrix from internal database\n",
      "    A   C   D   E   F   G   H   I   K   L   M   N   P   Q   R   S   T   V   W   Y   B   Z   X   *\n",
      "A   5  -1  -2  -1  -3   0  -2  -1  -1  -2  -1  -1  -1  -1  -2   1   0   0  -3  -2  -2  -1  -1  -5\n",
      "C  -1  13  -4  -3  -2  -3  -3  -2  -3  -2  -2  -2  -4  -3  -4  -1  -1  -1  -5  -3  -3  -3  -2  -5\n",
      "D  -2  -4   8   2  -5  -1  -1  -4  -1  -4  -4   2  -1   0  -2   0  -1  -4  -5  -3   5   1  -1  -5\n",
      "E  -1  -3   2   6  -3  -3   0  -4   1  -3  -2   0  -1   2   0  -1  -1  -3  -3  -2   1   5  -1  -5\n",
      "F  -3  -2  -5  -3   8  -4  -1   0  -4   1   0  -4  -4  -4  -3  -3  -2  -1   1   4  -4  -4  -2  -5\n",
      "G   0  -3  -1  -3  -4   8  -2  -4  -2  -4  -3   0  -2  -2  -3   0  -2  -4  -3  -3  -1  -2  -2  -5\n",
      "H  -2  -3  -1   0  -1  -2  10  -4   0  -3  -1   1  -2   1   0  -1  -2  -4  -3   2   0   0  -1  -5\n",
      "I  -1  -2  -4  -4   0  -4  -4   5  -3   2   2  -3  -3  -3  -4  -3  -1   4  -3  -1  -4  -3  -1  -5\n",
      "K  -1  -3  -1   1  -4  -2   0  -3   6  -3  -2   0  -1   2   3   0  -1  -3  -3  -2   0   1  -1  -5\n",
      "L  -2  -2  -4  -3   1  -4  -3   2  -3   5   3  -4  -4  -2  -3  -3  -1   1  -2  -1  -4  -3  -1  -5\n",
      "M  -1  -2  -4  -2   0  -3  -1   2  -2   3   7  -2  -3   0  -2  -2  -1   1  -1   0  -3  -1  -1  -5\n",
      "N  -1  -2   2   0  -4   0   1  -3   0  -4  -2   7  -2   0  -1   1   0  -3  -4  -2   4   0  -1  -5\n",
      "P  -1  -4  -1  -1  -4  -2  -2  -3  -1  -4  -3  -2  10  -1  -3  -1  -1  -3  -4  -3  -2  -1  -2  -5\n",
      "Q  -1  -3   0   2  -4  -2   1  -3   2  -2   0   0  -1   7   1   0  -1  -3  -1  -1   0   4  -1  -5\n",
      "R  -2  -4  -2   0  -3  -3   0  -4   3  -3  -2  -1  -3   1   7  -1  -1  -3  -3  -1  -1   0  -1  -5\n",
      "S   1  -1   0  -1  -3   0  -1  -3   0  -3  -2   1  -1   0  -1   5   2  -2  -4  -2   0   0  -1  -5\n",
      "T   0  -1  -1  -1  -2  -2  -2  -1  -1  -1  -1   0  -1  -1  -1   2   5   0  -3  -2   0  -1   0  -5\n",
      "V   0  -1  -4  -3  -1  -4  -4   4  -3   1   1  -3  -3  -3  -3  -2   0   5  -3  -1  -4  -3  -1  -5\n",
      "W  -3  -5  -5  -3   1  -3  -3  -3  -3  -2  -1  -4  -4  -1  -3  -4  -3  -3  15   2  -5  -2  -3  -5\n",
      "Y  -2  -3  -3  -2   4  -3   2  -1  -2  -1   0  -2  -3  -1  -1  -2  -2  -1   2   8  -3  -2  -1  -5\n",
      "B  -2  -3   5   1  -4  -1   0  -4   0  -4  -3   4  -2   0  -1   0   0  -4  -5  -3   5   2  -1  -5\n",
      "Z  -1  -3   1   5  -4  -2   0  -3   1  -3  -1   0  -1   4   0   0  -1  -3  -2  -2   2   5  -1  -5\n",
      "X  -1  -2  -1  -1  -2  -2  -1  -1  -1  -1  -1  -1  -2  -1  -1  -1   0  -1  -3  -1  -1  -1  -1  -5\n",
      "*  -5  -5  -5  -5  -5  -5  -5  -5  -5  -5  -5  -5  -5  -5  -5  -5  -5  -5  -5  -5  -5  -5  -5   1\n",
      "Local Protein Sequence alignment\n",
      "TITE\n",
      "TITE\n",
      "Global Protein Sequence alignment\n",
      "MITTITE\n",
      "-IT-ITE\n",
      "MITTITE\n",
      "-I-TITE\n",
      "Local Score: 19\n",
      "Local Realc Score: 19\n",
      "Local Sequence Identity: 1.0\n",
      "Global Score: 3\n",
      "Global Realc Score: 3\n",
      "Global Sequence Identity: 0.8333333333333334\n",
      "Find local alignments in nucleotides\n",
      "ATCTCGTA\n",
      "ATCTCGTA\n",
      "Local Score: 40\n",
      "Local Realc Score: 47\n",
      "Local Sequence Identity: 1.0\n",
      "Find global alignments in nucleotides\n",
      "ATGATCTCGTAA\n",
      "AT---CTCGTAG\n",
      "ATGATCTCGTAA\n",
      "A---TCTCGTAG\n",
      "ATGATCTCGTAA\n",
      "---ATCTCGTAG\n",
      "Global Score: 6\n",
      "Global Realc Score: 15\n",
      "Global Sequence Identity: 0.6666666666666666\n"
     ]
    },
    {
     "data": {
      "image/png": "[encoded data removed]",
      "text/plain": [
       "<Figure size 144x57.6 with 2 Axes>"
      ]
     },
     "metadata": {
      "needs_background": "light"
     },
     "output_type": "display_data"
    },
    {
     "data": {
      "image/png": "[encoded data removed]",
      "text/plain": [
       "<Figure size 144x57.6 with 2 Axes>"
      ]
     },
     "metadata": {
      "needs_background": "light"
     },
     "output_type": "display_data"
    },
    {
     "data": {
      "image/png": "[encoded data removed]",
      "text/plain": [
       "<Figure size 144x57.6 with 2 Axes>"
      ]
     },
     "metadata": {
      "needs_background": "light"
     },
     "output_type": "display_data"
    },
    {
     "data": {
      "image/png": "[encoded data removed]",
      "text/plain": [
       "<Figure size 144x57.6 with 2 Axes>"
      ]
     },
     "metadata": {
      "needs_background": "light"
     },
     "output_type": "display_data"
    }
   ],
   "source": [
    "#Similar to Biopython\n",
    "#Local and global alignment\n",
    "#In Biotite need to get a substution matrix then can use alignment\n",
    "\n",
    "import biotite.sequence.align as align\n",
    "import biotite.sequence as seq\n",
    "import biotite.sequence.graphics as graphics\n",
    "import matplotlib.pyplot as plt\n",
    "\n",
    "print(dir(align))\n",
    "\n",
    "#Create substution matrix, standard matrix, similar to Biopython dotplot, matches give 5 points\n",
    "#mismatches give -4 and gaps give _\n",
    "n_matrix = align.SubstitutionMatrix.std_nucleotide_matrix()\n",
    "print(n_matrix)\n",
    "\n",
    "#Protein matrix\n",
    "p_matrix = align.SubstitutionMatrix.std_protein_matrix()\n",
    "print(p_matrix)\n",
    "\n",
    "#Load substution matrix from internal database\n",
    "print(\"Load substution matrix from internal database\")\n",
    "alpha = seq.ProteinSequence.alphabet\n",
    "matrix_bl50 = align.SubstitutionMatrix(alpha,alpha,\"BLOSUM50\")\n",
    "print(matrix_bl50)\n",
    "\n",
    "#Protein Sequence alignment, csn choose local or global\n",
    "pseq1 = seq.ProteinSequence(\"MITTITE\")\n",
    "pseq2 = seq.ProteinSequence(\"ITITE\")\n",
    "\n",
    "#Local alignment\n",
    "l_alignments = align.align_optimal(pseq1,pseq2,p_matrix,local=True)\n",
    "print(\"Local Protein Sequence alignment\")\n",
    "for a in l_alignments:\n",
    "    print(a)\n",
    "\n",
    "#Global alignment\n",
    "g_alignments = align.align_optimal(pseq1,pseq2,p_matrix,local=False)\n",
    "print(\"Global Protein Sequence alignment\")\n",
    "for a in g_alignments:\n",
    "    print(a)\n",
    "\n",
    "#More fancy representation\n",
    "def fancy_alignment(alignments,matrix_type):\n",
    "    fig,ax = plt.subplots(figsize = (2.0,0.8))\n",
    "    graphics.plot_alignment_similarity_based(\n",
    "        ax,alignments[0], matrix=matrix_type, symbols_per_line=len(alignments[0]))\n",
    "    fig.tight_layout()\n",
    "\n",
    "#Local and global alignment\n",
    "fancy_alignment(l_alignments,p_matrix)\n",
    "fancy_alignment(g_alignments,p_matrix)\n",
    "\n",
    "#Check for local and global alignment scores\n",
    "def check_scores(alignments, align_type):\n",
    "    print(align_type,\"Score:\",alignments.score)\n",
    "    print(align_type,\"Realc Score:\",align.score(alignments,matrix=p_matrix))\n",
    "    print(align_type,\"Sequence Identity:\",align.get_sequence_identity(alignments))\n",
    "\n",
    "check_scores(l_alignments[0], \"Local\")\n",
    "check_scores(g_alignments[0], \"Global\")\n",
    "\n",
    "#Find local and global alignments in nucleotides\n",
    "dna_seq1 = seq.NucleotideSequence(\"ATGATCTCGTAA\")\n",
    "dna_seq2 = seq.NucleotideSequence(\"ATCTCGTAG\")\n",
    "dna__local_alignments = align.align_optimal(dna_seq1,dna_seq2,n_matrix,local=True)\n",
    "dna_global_alignments = align.align_optimal(dna_seq1,dna_seq2,n_matrix,local=False)\n",
    "\n",
    "print(\"Find local alignments in nucleotides\")\n",
    "for a in dna__local_alignments:\n",
    "    print(a)\n",
    "fancy_alignment(dna__local_alignments,n_matrix)\n",
    "check_scores(dna__local_alignments[0], \"Local\")\n",
    "\n",
    "print(\"Find global alignments in nucleotides\")\n",
    "for a in dna_global_alignments:\n",
    "    print(a)\n",
    "fancy_alignment(dna_global_alignments,n_matrix)\n",
    "check_scores(dna_global_alignments[0], \"Global\")"
   ]
  },
  {
   "cell_type": "code",
   "execution_count": null,
   "metadata": {},
   "outputs": [],
   "source": []
  }
 ],
 "metadata": {
  "kernelspec": {
   "display_name": "Python 3",
   "language": "python",
   "name": "python3"
  },
  "language_info": {
   "codemirror_mode": {
    "name": "ipython",
    "version": 3
   },
   "file_extension": ".py",
   "mimetype": "text/x-python",
   "name": "python",
   "nbconvert_exporter": "python",
   "pygments_lexer": "ipython3",
   "version": "3.7.4"
  }
 },
 "nbformat": 4,
 "nbformat_minor": 4
}
