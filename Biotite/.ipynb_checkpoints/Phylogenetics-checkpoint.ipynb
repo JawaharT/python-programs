{
 "cells": [
  {
   "cell_type": "code",
   "execution_count": 9,
   "metadata": {},
   "outputs": [
    {
     "name": "stdout",
     "output_type": "stream",
     "text": [
      "Tree: ((Apple:2.0,Pear:2.0):2.0,((Orange:1.0,Lemon:1.0):2.0,Banana:3.0):1.0):0.0;\n",
      "Tree with no distances: ((Apple,Pear),((Orange,Lemon),Banana));\n",
      "Distance to Apple-Banana: 8.0\n"
     ]
    },
    {
     "data": {
      "image/png": "[encoded data removed]",
      "text/plain": [
       "<Figure size 432x432 with 1 Axes>"
      ]
     },
     "metadata": {
      "needs_background": "light"
     },
     "output_type": "display_data"
    }
   ],
   "source": [
    "#Phylogenetics is the study of evolutionary history/relationships among individuals\n",
    "#and groups of organisms\n",
    "\n",
    "import biotite.sequence.phylo as phylo\n",
    "import matplotlib.pyplot as plt\n",
    "import biotite.sequence.graphics as graphics\n",
    "#print(dir(phylo))\n",
    "\n",
    "#Reference objects\n",
    "fruits = [\"Apple\", \"Pear\", \"Orange\", \"Lemon\", \"Banana\"]\n",
    "\n",
    "#Create Nodes\n",
    "apple = phylo.TreeNode(index=fruits.index(\"Apple\"))\n",
    "pear = phylo.TreeNode(index=fruits.index(\"Pear\"))\n",
    "orange = phylo.TreeNode(index=fruits.index(\"Orange\"))\n",
    "lemon = phylo.TreeNode(index=fruits.index(\"Lemon\"))\n",
    "banana = phylo.TreeNode(index=fruits.index(\"Banana\"))\n",
    "\n",
    "intermediate1 = phylo.TreeNode(children=(apple,pear), distances=(2.0, 2.0))\n",
    "intermediate2 = phylo.TreeNode((orange,lemon),(1.0, 1.0))\n",
    "intermediate3 = phylo.TreeNode((intermediate2,banana),(2.0, 3.0))\n",
    "\n",
    "root = phylo.TreeNode((intermediate1,intermediate3),(2.0, 1.0))\n",
    "\n",
    "#Create Tree from root node\n",
    "tree = phylo.Tree(root=root)\n",
    "\n",
    "#Trees can be converted to Newick notation\n",
    "print(\"Tree:\", tree.to_newick(labels=fruits))\n",
    "\n",
    "#Distances are omitted\n",
    "print(\"Tree with no distances:\", tree.to_newick(labels=fruits, include_distance=False))\n",
    "\n",
    "#Distances are measured\n",
    "apple_to_banana_distance = tree.get_distance(fruits.index(\"Apple\"), fruits.index(\"Banana\"))\n",
    "print(\"Distance to Apple-Banana:\", apple_to_banana_distance)\n",
    "\n",
    "#Plot a phylo Tree, the lines are considered as edges and places with names are considered as nodes\n",
    "fig, ax = plt.subplots(figsize=(6.0,6.0))\n",
    "graphics.plot_dendrogram(ax, tree, labels=fruits)\n",
    "fig.tight_layout()"
   ]
  },
  {
   "cell_type": "code",
   "execution_count": null,
   "metadata": {},
   "outputs": [],
   "source": []
  }
 ],
 "metadata": {
  "kernelspec": {
   "display_name": "Python 3",
   "language": "python",
   "name": "python3"
  },
  "language_info": {
   "codemirror_mode": {
    "name": "ipython",
    "version": 3
   },
   "file_extension": ".py",
   "mimetype": "text/x-python",
   "name": "python",
   "nbconvert_exporter": "python",
   "pygments_lexer": "ipython3",
   "version": "3.8.2"
  }
 },
 "nbformat": 4,
 "nbformat_minor": 4
}
